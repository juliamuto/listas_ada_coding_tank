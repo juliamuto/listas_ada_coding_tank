{
 "cells": [
  {
   "cell_type": "markdown",
   "metadata": {},
   "source": [
    "## Exercício 1\n",
    "Faça um programa que pede para o usuário digitar um número e responde se o número é positivo ou negativo."
   ]
  },
  {
   "cell_type": "code",
   "execution_count": null,
   "metadata": {},
   "outputs": [],
   "source": [
    "numero = float(input(\"Insira um número: \"))\n",
    "\n",
    "if numero < 0:\n",
    "  print(f\"{numero} é um número negativo.\")\n",
    "elif numero == 0:\n",
    "  print(\"Zero é um número neutro.\")\n",
    "else:\n",
    "  print(f\"{numero} é um número positivo.\")"
   ]
  },
  {
   "cell_type": "markdown",
   "metadata": {},
   "source": [
    "## Exercício 2\n",
    "Faça um programa que pede para a usuária digitar um número e responde se o número é par ou ímpar."
   ]
  },
  {
   "cell_type": "code",
   "execution_count": null,
   "metadata": {},
   "outputs": [],
   "source": [
    "par_impar = int(input(\"Insira um número inteiro: \"))\n",
    "\n",
    "if par_impar % 2 == 0:\n",
    "  print(f\"{par_impar} é um número par.\")\n",
    "else:\n",
    "  print(f\"{par_impar} é um número ímpar.\")"
   ]
  },
  {
   "cell_type": "markdown",
   "metadata": {},
   "source": [
    "## Exercício 3\n",
    "Faça um programa que pergunta o nome do usuário e o horário do dia (apenas horas, sem os minutos). O programa deverá responder:\n",
    "\n",
    "Bom dia, [nome]! caso o horário esteja entre 4 e 11.\n",
    "Boa tarde, [nome]! caso o horário esteja entre 12 e 17.\n",
    "Boa noite, [nome]! caso o horário esteja entre 18 e 23 ou 0 e 3.\n",
    "Horário inválido caso o horário seja superior a 23 ou inferior a 0."
   ]
  },
  {
   "cell_type": "code",
   "execution_count": null,
   "metadata": {},
   "outputs": [],
   "source": [
    "nome = input(\"Qual é seu nome? \")\n",
    "horas = int(input(\"Que horas são? \"))\n",
    "\n",
    "if 4 <= horas <= 11:\n",
    "  print(f\"Bom dia, {nome}!\")\n",
    "elif 12 <= horas <= 17:\n",
    "  print(f\"Boa tarde, {nome}!\")\n",
    "elif (18 <=horas <= 23) or (0 <= horas <= 3):\n",
    "  print(f\"Boa noite, {nome}!\")\n",
    "else:\n",
    "  print(\"Horário inválido.\")"
   ]
  },
  {
   "cell_type": "markdown",
   "metadata": {},
   "source": [
    "## Exercício 4\n",
    "Faça um programa que pergunta o nome e o gênero da pessoa que está utilizando. O programa deverá responder:\n",
    "\n",
    "* ```Seja bem-vindo, [nome]!``` caso o gênero seja igual a 'M'\n",
    "* ```Seja bem-vinda, [nome]!``` caso o gênero seja igual a 'F'\n",
    "* ```Sej@ bem-vind@, [nome]!``` caso o gênero seja 'Neutro' ou 'Outro'\n",
    "* ```Opção inválida``` caso gênero não possua um dos 3 valores descritos acima."
   ]
  },
  {
   "cell_type": "code",
   "execution_count": null,
   "metadata": {},
   "outputs": [],
   "source": [
    "nome = input(\"Qual é seu nome? \")\n",
    "genero = input(\"Qual é seu gênero, M, F, Neutro ou Outro? \")\n",
    "\n",
    "if genero.upper() == \"M\": \n",
    "  print(f\"Seja bem-vindo, {nome}!\")\n",
    "elif genero.upper() == \"F\":\n",
    "  print(f\"Seja bem-vinda, {nome}!\")\n",
    "elif genero.title() == \"Neutro\" or genero.title() == \"Outro\":\n",
    "  print(f\"Seja bem-vinde, {nome}!\")\n",
    "else:\n",
    "  print(\"Opção inválida\")"
   ]
  },
  {
   "cell_type": "markdown",
   "metadata": {},
   "source": [
    "## Exercício 5\n",
    "Faça um programa que deverá pedir as 2 notas de uma aluna e calcular sua média. Considere que as notas serão de 0 a 100.\n",
    "\n",
    "O programa deverá informar a média da aluna e seu status, obedecendo as regrinhas abaixo:\n",
    "\n",
    "* Aprovada, caso a média seja pelo menos 70.\n",
    "* Exame, caso a média seja pelo menos 30 e menor do que 70.\n",
    "* Reprovada caso a média seja inferior a 30."
   ]
  },
  {
   "cell_type": "code",
   "execution_count": null,
   "metadata": {},
   "outputs": [],
   "source": [
    "nota1 = int(input(\"Insira a nota da primeira prova: \"))\n",
    "nota2 = int(input(\"Insira a nota da segunda prova: \"))\n",
    "media = (nota1 + nota2) / 2\n",
    "\n",
    "if media >= 70:\n",
    "  print(\"Aprovada!\")\n",
    "elif media >=30:\n",
    "  print(\"Em exame\")\n",
    "else:\n",
    "  print(\"Reprovada\")\n",
    "\n",
    "print(f\"Sua média é: {media}\")"
   ]
  },
  {
   "cell_type": "markdown",
   "metadata": {},
   "source": [
    "## Exercício 6  \n",
    "Modifique o programa das médias do exercício anterior da seguinte maneira:\n",
    "\n",
    "Caso a aluna tenha ficado de exame, pergunte a nota do exame.\n",
    "\n",
    "Uma nova média deve ser calculada entre a média original e a nota do exame:\n",
    "\n",
    "media_exame = (media + exame)/2\n",
    "\n",
    "O programa deve exibir essa nova média junto do novo status:\n",
    "\n",
    "* Aprovada por exame caso a media_exame seja pelo menos 50.\n",
    "* Reprovada caso a media_exame seja inferior a 50."
   ]
  },
  {
   "cell_type": "code",
   "execution_count": null,
   "metadata": {},
   "outputs": [],
   "source": [
    "nota1 = int(input(\"Insira a nota da primeira prova: \"))\n",
    "nota2 = int(input(\"Insira a nota da segunda prova: \"))\n",
    "media = (nota1 + nota2) / 2\n",
    "\n",
    "print(f\"Sua média é: {media}.\")\n",
    "if media >= 70:\n",
    "  print(\"Aprovada!\")\n",
    "elif media >=30:\n",
    "  exame = int(input(\"Qual foi a nota de seu exame?\"))\n",
    "  media_exame = (media + exame) / 2\n",
    "  if media_exame >= 50:\n",
    "    print(\"Aprovada por exame\")\n",
    "    print(f\"Média com exame: {media_exame}\")\n",
    "  else:\n",
    "    print(\"Reprovada\")\n",
    "    print(f\"Média com exame: {media_exame}\")\n",
    "else:\n",
    "  print(\"Reprovada\")\n"
   ]
  },
  {
   "cell_type": "markdown",
   "metadata": {},
   "source": [
    "## Exercício 7  \n",
    "Faça um programa que pergunta o comprimento de cada um dos 3 lados de um triângulo.\n",
    "\n",
    "O programa deverá responder:\n",
    "\n",
    "* É triângulo, caso nenhum dos lados possua comprimento superior à soma dos outros dos lados.\n",
    "\n",
    "* Não é triângulo, caso um dos lados seja possua comprimento superior à soma dos outros dois lados.\n",
    "\n",
    "Exemplos:\n",
    "\n",
    "Se os lados forem 3, 4 e 5, o triângulo existe, pois:\n",
    "\n",
    "* 5 < 3 + 4\n",
    "* 4 < 3 + 5\n",
    "* 3 < 4 + 5\n",
    "\n",
    "Se os lados forem 6, 10 e 6, o triângulo também existe:\n",
    "\n",
    "* 6 < 10 + 6\n",
    "* 6 < 10 + 6\n",
    "* 10 < 6 + 6\n",
    "\n",
    "Já se os supostos lados forem 2, 5 e 2, o triângulo não existe, pois:\n",
    "\n",
    "* 5 > 2 + 2"
   ]
  },
  {
   "cell_type": "code",
   "execution_count": null,
   "metadata": {},
   "outputs": [],
   "source": [
    "lado1 = int(input(\"Qual é o comprimento do primeiro lado do triângulo? \"))\n",
    "lado2 = int(input(\"Qual é o comprimento do segundo lado do triângulo? \"))\n",
    "lado3 = int(input(\"Qual é o comprimento do terceiro lado do triângulo? \"))\n",
    "\n",
    "if (lado1 > (lado2 + lado3)) or (lado2 > (lado1 + lado3)) or (lado3 > (lado1 + lado2)):\n",
    "    print(\"Não é um triângulo.\")\n",
    "else:\n",
    "    print(\"É um triângulo!\")"
   ]
  },
  {
   "cell_type": "markdown",
   "metadata": {},
   "source": [
    "## Exercício 8\n",
    "Modifique o programa dos triângulos do exercício anterior da seguinte maneira:\n",
    "\n",
    "Caso o programa tenha determinado que o triângulo existe, informe também o seu tipo:\n",
    "\n",
    "* Equilátero, caso os 3 lados sejam iguais\n",
    "* Isósceles, caso apenas 2 lados sejam iguais\n",
    "* Escaleno, caso todos os lados sejam diferentes entre si"
   ]
  },
  {
   "cell_type": "code",
   "execution_count": null,
   "metadata": {},
   "outputs": [],
   "source": [
    "lado1 = int(input(\"Qual é o comprimento do primeiro lado do triângulo? \"))\n",
    "lado2 = int(input(\"Qual é o comprimento do segundo lado do triângulo? \"))\n",
    "lado3 = int(input(\"Qual é o comprimento do terceiro lado do triângulo? \"))\n",
    "\n",
    "if (lado1 > (lado2 + lado3)) or (lado2 > (lado1 + lado3)) or (lado3 > (lado1 + lado2)):\n",
    "    print(\"Não é um triângulo.\")\n",
    "else:\n",
    "    if (lado1 == lado2) and (lado1 == lado3):\n",
    "        print(\"É um triângulo equilátero.\")\n",
    "    elif (lado1 != lado2) and (lado2 != lado3) and (lado1 != lado3):\n",
    "        print(\"É um triãngulo escaleno\")\n",
    "    else:\n",
    "        print(\"É um triângulo isósceles.\")"
   ]
  },
  {
   "cell_type": "markdown",
   "metadata": {},
   "source": [
    "## Exercício 9  \n",
    "Faça um programa que pede para a usuária digitar, separadamente, os coeficientes a, b e c de uma equação de segundo grau.\n",
    "\n",
    "O programa deverá calcular o valor do discriminante (delta) e:\n",
    "\n",
    "* Caso seja positivo, o programa deverá calcular e exibir na tela os valores de suas duas raizes reais e distintas.\n",
    "\n",
    "* Caso seja zero, o programa deverá calcular e exibir na tela a sua única raiz.\n",
    "\n",
    "* Caso seja negativo, o programa deverá exibir a mensagem Não possui raizes reais.\n",
    "\n",
    "Dica 1: caso precise refrescar a memória com as fórmulas, este site pode ser útil.\n",
    "\n",
    "Dica 2: elevar um número ao expoente meio (1/2 ou 0.5) equivale a calcular sua raiz quadrada. 4 elevado a (1/2) dá 2. 9 elevado a (1/2) dá 3."
   ]
  },
  {
   "cell_type": "code",
   "execution_count": null,
   "metadata": {},
   "outputs": [],
   "source": [
    "coeficiente_a = float(input('insira o coeficiente a: '))\n",
    "coeficiente_b = float(input('insira o coeficiente b: '))\n",
    "coeficiente_c = float(input('insira o coeficiente c: '))\n",
    "delta = coeficiente_b** 2 - 4*(coeficiente_a*coeficiente_c)\n",
    "\n",
    "print(delta)\n",
    "\n",
    "if delta > 0:\n",
    "  raiz1 = (- coeficiente_b + delta** 0.5)/(2*coeficiente_a)\n",
    "  raiz2 = (- coeficiente_b - delta** 0.5)/(2*coeficiente_a)\n",
    "  print(f\"a primeira raiz da equação é {raiz1}\")\n",
    "  print(f\"a segunda raiz da equação é {raiz2}\")\n",
    "elif delta == 0:\n",
    "  raiz0 = (- coeficiente_b)/(2*coeficiente_a)\n",
    "  print(f\"a raiz da equação é {raiz0}\")\n",
    "else:\n",
    "  print(\"não possui raizes reais.\")"
   ]
  },
  {
   "cell_type": "markdown",
   "metadata": {},
   "source": [
    "## Exercício 10\n",
    "Faça um programa que pergunta um ano para a usuária e responde se ele é bissexto ou não.\n",
    "\n",
    "A regra geral para determinar se um ano é bissexto é: todo ano divisível por 4, a princípio, é bissexto: 2016, 2020, 2024...\n",
    "\n",
    "Porém existe uma exceção: anos divisíveis por 100 não são bissextos. O ano 2100, por exemplo, é divisível por 4, mas como também é divisível por 100, ele não pode ser bissexto.\n",
    "\n",
    "A exceção possui uma exceção: anos divisíveis por 400 são bissextos. O ano 2000, por exemplo, é divisível por 100. Porém, como ele também é divisível por 400, ele torna-se bissexto."
   ]
  },
  {
   "cell_type": "code",
   "execution_count": null,
   "metadata": {},
   "outputs": [],
   "source": [
    "ano = int(input(\"insira um ano: \"))\n",
    "\n",
    "if (ano % 4 == 0) and (ano % 100 != 0):\n",
    "  print('É um ano bissexto!')\n",
    "elif (ano % 400 == 0):\n",
    "  print('É um ano bissexto!')\n",
    "else:\n",
    "  print('Não é um ano bissexto.')"
   ]
  },
  {
   "cell_type": "markdown",
   "metadata": {},
   "source": [
    "## Exercício 11\n",
    "Um banco oferece as seguintes opções de aplicação de renda fixa:\n",
    "\n",
    "* Fundo A: aceita aplicações a partir de 50 reais, não possui tempo mínimo de aplicação e rende 10% ao ano.\n",
    "\n",
    "* Fundo B: aceita aplicações a partir de 100 reais, possui tempo mínimo de aplicação de 1 ano e rende 12% ao ano.\n",
    "\n",
    "* Fundo C: aceita aplicações a partir de 500 reais, possui tempo mínimo de aplicação de 2 anos e rende 13% ao ano.\n",
    "\n",
    "* Fundo D: aceita aplicações a partir de 1000 reais, possui tempo mínimo de aplicação de 3 anos e rende 15% ao ano.\n",
    "\n",
    "* Fundo E: aceita aplicações a partir de 3000 reais, possui tempo mínimo de aplicação de 5 anos e rende 18% ao ano.\n",
    "\n",
    "Faça um programa que pergunta para a usuária em qual fundo ela deseja aplicar seu dinheiro, quanto dinheiro ela possui e o tempo que ela pretende deixar o dinheiro aplicado (em anos).\n",
    "\n",
    "Caso o valor e o tempo estejam adequados às regras do fundo selecionado, utilize a fórmula dos juros compostos para informar para ela o valor total que ela irá sacar ao final do período informado por ela.\n",
    "\n",
    "Caso contrário, exiba a mensagem Não é possível realizar essa aplicação."
   ]
  },
  {
   "cell_type": "code",
   "execution_count": 1,
   "metadata": {},
   "outputs": [
    {
     "name": "stdout",
     "output_type": "stream",
     "text": [
      "Ao final da aplicação, você sacará R$17715.61.\n"
     ]
    }
   ],
   "source": [
    "escolha = input(\"Qual fundo você quer escolher, A, B, C, D ou E? \")\n",
    "dinheiro = float(input(\"Quanto dinheiro você tem para aplicar? \"))\n",
    "anos = int(input(\"Por quantos anos você quer aplicar seu dinheiro? \"))\n",
    "\n",
    "if (escolha.upper() == \"A\") and (dinheiro >= 50):\n",
    "    fundoA = dinheiro * (1 + 0.1)**anos\n",
    "    print(f\"Ao final da aplicação, você sacará R${fundoA:.2f}.\")\n",
    "elif (escolha.upper() == \"B\") and (dinheiro >= 100) and (anos >= 1):\n",
    "    fundoB = dinheiro * (1 + 0.12)**anos\n",
    "    print(f\"Ao final da aplicação, você sacará R${fundoB:.2f}.\")\n",
    "elif (escolha.upper() == \"C\") and (dinheiro >= 500) and (anos >= 2):\n",
    "    fundoC = dinheiro * (1 + 0.13)**anos\n",
    "    print(f\"Ao final da aplicação, você sacará R${fundoC:.2f}.\")\n",
    "elif (escolha.upper() == \"D\") and (dinheiro >= 1000) and (anos >= 3):\n",
    "    fundoD = dinheiro * (1 + 0.15)**anos\n",
    "    print(f\"Ao final da aplicação, você sacará R${fundoD:.2f}.\")\n",
    "elif (escolha.upper() == \"E\") and (dinheiro >= 3000) and (anos >= 5):\n",
    "    fundoE = dinheiro * (1 + 0.18)**anos\n",
    "    print(f\"Ao final da aplicação, você sacará R${fundoE:.2f}.\")\n",
    "else:\n",
    "    print(\"Não é possível realizar essa aplicação.\")"
   ]
  }
 ],
 "metadata": {
  "kernelspec": {
   "display_name": "Python 3.10.7 64-bit",
   "language": "python",
   "name": "python3"
  },
  "language_info": {
   "codemirror_mode": {
    "name": "ipython",
    "version": 3
   },
   "file_extension": ".py",
   "mimetype": "text/x-python",
   "name": "python",
   "nbconvert_exporter": "python",
   "pygments_lexer": "ipython3",
   "version": "3.10.7"
  },
  "orig_nbformat": 4,
  "vscode": {
   "interpreter": {
    "hash": "566a5b80f10dbed5292f0030c56aefc421a5d66123adfd89320e636d33dccc4a"
   }
  }
 },
 "nbformat": 4,
 "nbformat_minor": 2
}
