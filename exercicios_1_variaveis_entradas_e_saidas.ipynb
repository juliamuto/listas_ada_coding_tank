{
  "cells": [
    {
      "cell_type": "markdown",
      "metadata": {
        "id": "kpFxWx_F7ya6"
      },
      "source": [
        "# Exercícios\n",
        "\n",
        "As células com os enunciados dos exercícios são fornecidas aqui por conveniência, mas não deixe de _colar_ as soluções na área de envio do Class!\n",
        "\n",
        "Os exercícios de 1 a 10 valem 1 ponto cada, e basta entregá-los. O exercício 11 vale 10 pontos e será corrigido.\n",
        "\n",
        "### 01. Faça um programa que escreve a mensagem ```Santander Coders``` na tela do computador.\n",
        "\n"
      ]
    },
    {
      "cell_type": "code",
      "execution_count": 1,
      "metadata": {
        "id": "ke7miNDD8B_l"
      },
      "outputs": [
        {
          "name": "stdout",
          "output_type": "stream",
          "text": [
            "Santander Coders\n"
          ]
        }
      ],
      "source": [
        "print(\"Santander Coders\")"
      ]
    },
    {
      "cell_type": "markdown",
      "metadata": {
        "id": "UP5GcAZ88CWi"
      },
      "source": [
        "### 02. Faça um programa que pergunta o nome do usuário e responde Olá [nome] (substituindo \"[nome]\" pelo nome digitado).\n",
        "\n"
      ]
    },
    {
      "cell_type": "code",
      "execution_count": null,
      "metadata": {
        "id": "NO646iAb8IQk"
      },
      "outputs": [],
      "source": [
        "nome = input(\"Qual é seu nome? \")\n",
        "\n",
        "print(f\"Olá, {nome}!\")"
      ]
    },
    {
      "cell_type": "markdown",
      "metadata": {
        "id": "84u6xsqq8Ijj"
      },
      "source": [
        "### 03. Faça um programa que pergunta o ano de nascimento do usuário e responde quantos anos ela terá ao final de 2022.\n",
        "\n"
      ]
    },
    {
      "cell_type": "code",
      "execution_count": null,
      "metadata": {
        "id": "AEKyFLxA8NGo"
      },
      "outputs": [],
      "source": [
        "nascimento = int(input(\"Em que ano você nasceu?\"))\n",
        "\n",
        "print(f\"Você terá {2022 - nascimento} anos ao fim de 2022.\")"
      ]
    },
    {
      "cell_type": "markdown",
      "metadata": {
        "id": "l6U3f-178NcU"
      },
      "source": [
        "### 04. Faça um programa que pergunta a nota das 4 provas de um aluno e responde a sua média.\n",
        "\n"
      ]
    },
    {
      "cell_type": "code",
      "execution_count": null,
      "metadata": {
        "id": "9VkhBiy38R7R"
      },
      "outputs": [],
      "source": [
        "#fazer sem loops\n",
        "nota1 = float(input(\"Insira a nota de sua primeira prova: \")) \n",
        "nota2 = float(input(\"Insira a nota de sua segunda prova: \")) \n",
        "nota3 = float(input(\"Insira a nota de sua terceira prova: \")) \n",
        "nota4 = float(input(\"Insira a nota de sua quarta prova: \"))\n",
        "\n",
        "print(f\"Sua média é {(nota1 + nota2 + nota3 + nota4)/ 4:.2f}.\")"
      ]
    },
    {
      "cell_type": "markdown",
      "metadata": {
        "id": "0PD6D95p8SM2"
      },
      "source": [
        "### 05. Faça um programa que pergunte para a motorista a distância que ela dirigiu e o tempo que seu trajeto levou, e responda sua velocidade média.\n",
        "\n"
      ]
    },
    {
      "cell_type": "code",
      "execution_count": null,
      "metadata": {
        "id": "iZnRwy5U8VtP"
      },
      "outputs": [],
      "source": [
        "distancia = int(input(\"Insira a distância viajada em quilômetros: \")) \n",
        "tempo = int(input(\"Insira o tempo viajado em horas: \"))\n",
        "\n",
        "print(f\"Sua velocidade média foi de {distancia / tempo}km/h\")"
      ]
    },
    {
      "cell_type": "markdown",
      "metadata": {
        "id": "XLxabHaz8V_c"
      },
      "source": [
        " ### 06. Um estacionamento cobra um valor mínimo de 10 reais, correspondente a 1h de uso. Cada hora adicional gera mais 5 reais de cobrança. Ex: um carro estacionado por 5 horas irá pagar 10 reais pela primeira hora + 5 reais pela segunda + 5 pela terceira + 5 pela quarta + 5 pela quinta, totalizando 30 reais.\n",
        "\n",
        "### Faça um programa que pergunte para o usuário quanto tempo seu carro ficou estacionado e responde o valor em reais a ser pago.\n",
        "\n",
        "### OBS: o estacionamento não considera minutos, tampouco horas fracionárias. Portanto, o seu programa não precisa se preocupar com isso. Se a pessoa ficou 5 horas e 2 minutos, ela passou de 5 horas, portanto ela deve digitar a hora inteira mais próxima: 6 horas."
      ]
    },
    {
      "cell_type": "code",
      "execution_count": null,
      "metadata": {
        "id": "_T1QXjaB8dyq"
      },
      "outputs": [],
      "source": [
        "tempo_total = int(input(\"Quantas horas seu carro ficou estacionado? \"))\n",
        "\n",
        "print(f\"O custo total do estacionamento é R${10 + (tempo_total - 1) * 5}\")"
      ]
    },
    {
      "cell_type": "markdown",
      "metadata": {
        "id": "xmkAzR7q8ei-"
      },
      "source": [
        "### 07. Faça um programa que pergunta a temperatura em graus Celsius e responde a temperatura correspondente em graus Fahrenheit.\n",
        "\n",
        "> Dica: se você digitar converta celsius para fahrenheit no Google, ele irá exibir a fórmula que você utilizará em seu programa e uma calculadora que pode auxiliar você na hora de testar seu programa."
      ]
    },
    {
      "cell_type": "code",
      "execution_count": null,
      "metadata": {
        "id": "vUZV9mXR8nWl"
      },
      "outputs": [],
      "source": [
        "celsius = float(input(\"Insira aqui a temperatura em Celsius: \"))\n",
        "\n",
        "print(f\"A temperatura equivalente em Farenheit é {(celsius * 9 / 5) + 32:.2f}F\")"
      ]
    },
    {
      "cell_type": "markdown",
      "metadata": {
        "id": "joxTBNbA8nnA"
      },
      "source": [
        "### 08. Faça um programa que pergunta a temperatura em graus Fahrenheit e responde a temperatura correspondente em graus Celsius.\n",
        "\n",
        "> Atenção: apenas trocar \"celsius\" e \"fahrenheit\" na equação utilizada no exercício anterior não é a solução. Você deve realizar a inversão completa da fórmula (ou utilizar o mesmo truque para consultar essa fórmula no Google)."
      ]
    },
    {
      "cell_type": "code",
      "execution_count": null,
      "metadata": {
        "id": "sRPb6uBY8rYq"
      },
      "outputs": [],
      "source": [
        "fahrenheit = float(input(\"Insira aqui a temperatura em Fahrenheit: \"))\n",
        "\n",
        "print(f\"A temperatura equivalente em Celsius é {(fahrenheit - 32) * 5 / 9:.2f}C\")"
      ]
    },
    {
      "cell_type": "markdown",
      "metadata": {
        "id": "TH8_cGUR8r9o"
      },
      "source": [
        "### 09. Vai um cupom de desconto aí?\n",
        "\n",
        "### Faça um programa que pergunta o preço de um produto, o desconto a ser aplicado (em %) e responde o valor total a ser pago."
      ]
    },
    {
      "cell_type": "code",
      "execution_count": null,
      "metadata": {
        "id": "vdjO-kVo8xSy"
      },
      "outputs": [],
      "source": [
        "preco_total = float(input(\"Qual é o valor total do produto? \")) desconto = float(input(\"Qual é a porcentagem do desconto? \"))\n",
        "\n",
        "print(f\"O valor do produto com desconto é R${preco_total * (desconto /100):.2f}\")"
      ]
    },
    {
      "cell_type": "markdown",
      "metadata": {
        "id": "Rd-dx0sM8xgy"
      },
      "source": [
        "### 10. Vamos falar de coisa boa: aumento salarial!\n",
        "\n",
        "### Faça um programa que pergunta o salário do funcionário, o aumento a ser aplicado (em %) e responde o seu novo salário."
      ]
    },
    {
      "cell_type": "code",
      "execution_count": null,
      "metadata": {
        "id": "Apn9GrVo82x8"
      },
      "outputs": [],
      "source": [
        "salario_atual = float(input(\"Insira seu salário atual: \")) \n",
        "aumento = float(input(\"Qual é a porcentagem de seu aumento?\"))\n",
        "\n",
        "print(f\"Seu novo salário é R${salario_atual * (1 + (aumento / 100)):.2f}\")"
      ]
    },
    {
      "cell_type": "markdown",
      "metadata": {
        "id": "3XUg_V8-82-A"
      },
      "source": [
        "### 11. Vamos fazer um programa para calcular o rendimento de uma aplicação.\n",
        "\n",
        "### Faça um programa que pergunta quanto dinheiro a usuária irá aplicar, a taxa de juros ao mês (em %) e a duração da aplicação (em meses).\n",
        "\n",
        "### Seu programa deve responder as seguintes informações:\n",
        "\n",
        "### Qual o valor total a ser sacado pela usuária ao final da aplicação?\n",
        "### Quantos reais a pessoa recebeu apenas de juros?\n",
        "### Quantos % a aplicação rendeu no total?\n",
        "### Atenção: ao buscar as fórmulas para utilizar no problema, busque pela fórmula de juros compostos. Não utilize a fórmula de juros simples."
      ]
    },
    {
      "cell_type": "code",
      "execution_count": null,
      "metadata": {
        "id": "a9-SvMJH8_ok"
      },
      "outputs": [],
      "source": [
        "aplicacao = float(input(\"Qual é o valor da sua aplicação? \")) \n",
        "juros = float(input(\"Qual é a taxa de juros ao mês? \")) \n",
        "meses = float(input(\"Quantos meses durará a aplicação? \")) \n",
        "montante = aplicacao * (1 + (juros/100))**meses #acho que fica mais bonitinho criando variáveis \n",
        "rendimento_juros = montante - aplicacao \n",
        "porcentagem_total = (rendimento_juros * 100) / aplicacao\n",
        "\n",
        "print(f\"O valor final a ser sacado será R${montante:.2f}\") \n",
        "print(f\"O rendimento de juros será de R${rendimento_juros:.2f}\") \n",
        "print(f\"A aplicação rendeu uma porcentagem total de {porcentagem_total:.2f}%\")"
      ]
    }
  ],
  "metadata": {
    "colab": {
      "provenance": []
    },
    "kernelspec": {
      "display_name": "Python 3.10.7 64-bit",
      "language": "python",
      "name": "python3"
    },
    "language_info": {
      "codemirror_mode": {
        "name": "ipython",
        "version": 3
      },
      "file_extension": ".py",
      "mimetype": "text/x-python",
      "name": "python",
      "nbconvert_exporter": "python",
      "pygments_lexer": "ipython3",
      "version": "3.10.7"
    },
    "vscode": {
      "interpreter": {
        "hash": "566a5b80f10dbed5292f0030c56aefc421a5d66123adfd89320e636d33dccc4a"
      }
    }
  },
  "nbformat": 4,
  "nbformat_minor": 0
}
