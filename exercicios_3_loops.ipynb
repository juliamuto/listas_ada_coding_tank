{
  "cells": [
    {
      "cell_type": "markdown",
      "metadata": {
        "id": "uYR5glu7141A"
      },
      "source": [
        "# Exercícios\n",
        "\n",
        "Faça um programa que pede para o usuário digitar um número inteiro positivo. O programa deve exibir todos os números inteiros de 0 até o número digitado.\n",
        "\n",
        "Ex: se o número for 5, será exibido:\n",
        "\n",
        "```\n",
        "0\n",
        "1\n",
        "2\n",
        "3\n",
        "4\n",
        "5\n",
        "```"
      ]
    },
    {
      "cell_type": "code",
      "execution_count": null,
      "metadata": {
        "colab": {
          "base_uri": "https://localhost:8080/"
        },
        "id": "wdQq0ncK141B",
        "outputId": "89da06c1-3210-457c-d60c-67b35a199e5e"
      },
      "outputs": [],
      "source": [
        "final = int(input('Digite o valor final da sequência: '))\n",
        "numero = 0\n",
        "\n",
        "while numero <= final:\n",
        "  print(numero)\n",
        "  numero = numero + 1"
      ]
    },
    {
      "cell_type": "markdown",
      "metadata": {
        "id": "-Pp5doyp141B"
      },
      "source": [
        "Modifique o programa anterior para, além de ler o valor final pelo teclado, ler também o valor inicial.\n",
        "\n",
        "Ex: se os números digitados forem 5 e 10, será exibido:\n",
        "\n",
        "```\n",
        "5\n",
        "6\n",
        "7\n",
        "8\n",
        "9\n",
        "10\n",
        "```"
      ]
    },
    {
      "cell_type": "code",
      "execution_count": null,
      "metadata": {
        "colab": {
          "base_uri": "https://localhost:8080/"
        },
        "id": "31x3c5am141B",
        "outputId": "a04c7ef1-53c0-4bbf-f81d-52ab702d5577"
      },
      "outputs": [],
      "source": [
        "inicial = int(input('Digite o valor inicial da sequência: ')) \n",
        "final = int(input('Digite o valor final da sequência: ')) \n",
        "\n",
        "while inicial <= final:\n",
        "  print(inicial)\n",
        "  inicial += 1"
      ]
    },
    {
      "cell_type": "markdown",
      "metadata": {
        "id": "4yerHw4D141B"
      },
      "source": [
        "Modifique o programa anterior para perguntar também o \"passo\", ou seja, de quantas em quantas unidades a contagem irá saltar.\n",
        "\n",
        "Ex: se forem digitados o valor inicial 5, o valor final 20 e o passo 3, serão exibidos:\n",
        "\n",
        "```\n",
        "5\n",
        "8\n",
        "11\n",
        "14\n",
        "17\n",
        "20\n",
        "```"
      ]
    },
    {
      "cell_type": "code",
      "execution_count": null,
      "metadata": {
        "colab": {
          "base_uri": "https://localhost:8080/"
        },
        "id": "xuJbrINK141B",
        "outputId": "869fdce4-8095-4d90-8849-9dfd663254a2"
      },
      "outputs": [],
      "source": [
        "inicial = int(input('Digite o valor inicial da sequência: ')) \n",
        "final = int(input('Digite o valor final da sequência: '))\n",
        "passo = int(input('Digite o de quantas em quantas unidades a contagem irá saltar: '))\n",
        "\n",
        "while inicial <= final:\n",
        "  print(inicial)\n",
        "  inicial += passo"
      ]
    },
    {
      "cell_type": "markdown",
      "metadata": {
        "id": "k8WnLLJu141C"
      },
      "source": [
        "Faça um programa que pede para a usuária digitar um número. O programa deverá exibir a tabuada daquele número.\n",
        "\n",
        "Ex: se o número digitado for 5, a saída será:\n",
        "\n",
        "```\n",
        "5 x 1 = 5\n",
        "5 x 2 = 10\n",
        "5 x 3 = 15\n",
        "5 x 4 = 20\n",
        "5 x 5 = 25\n",
        "5 x 6 = 30\n",
        "5 x 7 = 35\n",
        "5 x 8 = 40\n",
        "5 x 9 = 45\n",
        "5 x 10 = 50\n",
        "```"
      ]
    },
    {
      "cell_type": "code",
      "execution_count": null,
      "metadata": {
        "colab": {
          "base_uri": "https://localhost:8080/"
        },
        "id": "T91Pk_X2141C",
        "outputId": "c2cf5b1b-6443-4eaa-fd32-abf008aa660c"
      },
      "outputs": [],
      "source": [
        "base_tabuada = int(input(\"Insira o número que quer multiplicar: \"))\n",
        "multiplicador = 1\n",
        "\n",
        "\n",
        "while multiplicador <= 10:\n",
        "  resultado = base_tabuada * multiplicador\n",
        "  print(f\"{base_tabuada} x {multiplicador} = {resultado}\")\n",
        "  multiplicador += 1"
      ]
    },
    {
      "cell_type": "markdown",
      "metadata": {
        "id": "sN5j7Qj1141C"
      },
      "source": [
        "Faça um programa que pede para a usuária digitar um número inteiro positivo. Seu programa deverá responder a soma de do número com todos os seus antecessores positivos.\n",
        "\n",
        "Ex: se o número digitado for 5, a conta a ser realizada será 5 + 4 + 3 + 2 + 1, e o resultado na tela será \"15\"."
      ]
    },
    {
      "cell_type": "code",
      "execution_count": null,
      "metadata": {
        "colab": {
          "base_uri": "https://localhost:8080/"
        },
        "id": "_gbKMDxY141C",
        "outputId": "471c048f-d711-47ed-a171-bc9b5d9d9871"
      },
      "outputs": [],
      "source": [
        "numero = int(input(\"Digite um número positivo inteiro: \"))\n",
        "soma = numero\n",
        "\n",
        "while numero > 0:\n",
        "  soma += (numero - 1)\n",
        "  numero -= 1\n",
        "\n",
        "print (soma)"
      ]
    },
    {
      "cell_type": "markdown",
      "metadata": {
        "id": "JGNvv4hP141C"
      },
      "source": [
        "Faça um programa que pede para a usuária digitar um número inteiro positivo. O programa deverá calcular e exibir na tela o **fatorial** do número digitado.\n",
        "\n",
        "Lembrete: o fatorial de um número \"n\", denotado por \"n!\", é o produto dele com todos os seus antecessores inteiros positivos. \n",
        "\n",
        "Ex: 5! = 1 x 2 x 3 x 4 x 5\n"
      ]
    },
    {
      "cell_type": "code",
      "execution_count": null,
      "metadata": {
        "colab": {
          "base_uri": "https://localhost:8080/"
        },
        "id": "5ohum0NE141D",
        "outputId": "12a19e50-b586-4eda-a6ba-e45be2a2f3e7"
      },
      "outputs": [],
      "source": [
        "numero = int(input(\"Digite um número positivo inteiro: \"))\n",
        "fatorial = numero\n",
        "\n",
        "while numero > 1:\n",
        "  fatorial *= (numero - 1)\n",
        "  numero -= 1\n",
        "\n",
        "print (fatorial)"
      ]
    },
    {
      "cell_type": "markdown",
      "metadata": {
        "id": "NKxNhVPd141D"
      },
      "source": [
        "Faça um programa que pergunta quantas provas o usuário fez. Em seguida, o programa deverá ler cada uma de suas notas pelo teclado e informar sua média."
      ]
    },
    {
      "cell_type": "code",
      "execution_count": null,
      "metadata": {
        "colab": {
          "base_uri": "https://localhost:8080/"
        },
        "id": "IBjNmLuN141D",
        "outputId": "d2313344-9472-4b5e-adbc-41e782cf0503"
      },
      "outputs": [],
      "source": [
        "quantidade = int(input(\"Informe a quantidade de provas\"))\n",
        "total = quantidade\n",
        "soma_notas = 0\n",
        "\n",
        "while total > 0:\n",
        "  nota = float(input(\"Insira uma nota: \"))\n",
        "  soma_notas += nota\n",
        "  total -= 1\n",
        "\n",
        "media = soma_notas / quantidade\n",
        "print(f\"A média é {media:.2f}\")\n",
        "  "
      ]
    },
    {
      "cell_type": "markdown",
      "metadata": {
        "id": "EQ8dkbB9141D"
      },
      "source": [
        "Iremos novamente fazer o programa da média do exercício anterior, mas com uma diferença: agora **não** iremos perguntar a quantidade de notas. O usuário deverá digitar uma nota **negativa** quando desejar parar de digitar mais notas.\n",
        "\n",
        "**Atenção**: o número negativo não deve ser considerado uma nota (portanto, não deve interferir na média)."
      ]
    },
    {
      "cell_type": "code",
      "execution_count": null,
      "metadata": {
        "colab": {
          "base_uri": "https://localhost:8080/"
        },
        "id": "rfWifssK141D",
        "outputId": "4c383195-79da-4b41-af5c-c0e681d3c63b"
      },
      "outputs": [],
      "source": [
        "quantidade = 0\n",
        "soma_notas = 0\n",
        "nota = 0\n",
        "\n",
        "while nota >= 0:\n",
        "  nota = float(input(\"Insira uma nota: \"))\n",
        "  if nota > 0:\n",
        "    soma_notas += nota\n",
        "    quantidade += 1\n",
        "\n",
        "media = soma_notas / quantidade\n",
        "print(f\"A média é {media:.2f}\")"
      ]
    },
    {
      "cell_type": "markdown",
      "metadata": {
        "id": "jREZnVRd141D"
      },
      "source": [
        "Faça um programa que pergunta o nome e o gênero da pessoa que está utilizando. O programa deverá responder:\n",
        "\n",
        "- `Seja bem-vindo, [nome]!` caso o gênero seja igual a `'M'`\n",
        "- `Seja bem-vinda, [nome]!` caso o gênero seja igual a `'F'`\n",
        "- `Sej@ bem-vind@, [nome]!` caso o gênero seja `'Neutro'` ou `'Outro'`\n",
        "\n",
        "Caso uma opção diferente das listadas acima seja digitada, o programa deverá repetir a pergunta até que uma das opções válidas seja digitada."
      ]
    },
    {
      "cell_type": "code",
      "execution_count": null,
      "metadata": {
        "colab": {
          "base_uri": "https://localhost:8080/"
        },
        "id": "iExwCv7m141D",
        "outputId": "d992a42c-ebb7-4fd9-bed3-d1950d96b2ef"
      },
      "outputs": [],
      "source": [
        "nome = input(\"Qual é seu nome? \")\n",
        "opcao_valida = False\n",
        "\n",
        "while opcao_valida == False:\n",
        "  genero = input(\"Qual é seu gênero, M, F, Neutro ou Outro? \")\n",
        "  if genero.upper() == \"M\": \n",
        "    opcao_valida = True\n",
        "    print(f\"Seja bem-vindo, {nome}!\")\n",
        "  elif genero.upper() == \"F\":\n",
        "    opcao_valida = True\n",
        "    print(f\"Seja bem-vinda, {nome}!\")\n",
        "  elif genero.title() == \"Neutro\" or genero.title() == \"Outro\":\n",
        "    opcao_valida = True\n",
        "    print(f\"Seja bem-vinde, {nome}!\")\n",
        "  else:\n",
        "    print(\"Opção inválida\")\n"
      ]
    },
    {
      "cell_type": "markdown",
      "metadata": {
        "id": "kSrKF7wK141E"
      },
      "source": [
        "Bibliotecas ou módulos são arquivos contendo algumas funções e outros componentes de código já prontos para serem reutilizados. A linguagem Python já possui diversos módulos pré-instalados, e podemos utilizá-los através do comando import.\n",
        "\n",
        "Ao incluir a linha abaixo (preferencialmente no topo do programa) podemos acessar as funções do módulo random, que permitem lidar com números aleatórios:\n",
        "\n",
        "import random\n",
        "\n",
        "Tendo importado esse módulo em nosso programa, é possível sortear números aleatórios através da função randint. No exemplo abaixo, um número aleatório entre 1 e 100 é salvo na variável \"sorteio\":\n",
        "\n",
        "sorteio = random.randint(1, 100)\n",
        "\n",
        "Faça um programa que sorteia um número aleatório entre 1 e 100. Ele deve pedir para o usuário adivinhar o número até que ele acerte.\n",
        "\n",
        "Quando o usuário finalmente acertar, exiba a mensagem \"Você venceu!\" e pergunte se ele gostaria de jogar novamente. Caso ele digite \"sim\", sorteie um novo número e torne a pedir que ele adivinhe."
      ]
    },
    {
      "cell_type": "code",
      "execution_count": null,
      "metadata": {
        "colab": {
          "base_uri": "https://localhost:8080/"
        },
        "id": "gOe78Ot9141E",
        "outputId": "96612744-6d5f-4146-c816-092ba05047a1"
      },
      "outputs": [],
      "source": [
        "import random\n",
        "\n",
        "print(\"Jogo do sorteio!\")\n",
        "joga = True\n",
        "\n",
        "while joga == True:\n",
        "  sorteio = random.randint(1, 100)\n",
        "  acertou = False\n",
        "  while acertou == False:\n",
        "    chute = int(input(\"Adivinhe o número! \"))\n",
        "    if chute != sorteio:\n",
        "      print(\"Você errou! Tente de novo.\")\n",
        "    else:\n",
        "      print(\"Você acertou!\")\n",
        "      acertou = True\n",
        "  de_novo = input(\"Você quer jogar de novo? \")\n",
        "  if de_novo.lower() == \"não\":\n",
        "    joga = False"
      ]
    },
    {
      "cell_type": "markdown",
      "metadata": {
        "id": "BKryPPRP141E"
      },
      "source": [
        "**Questão avaliada**\n",
        "\n",
        "Juros de novo! :)\n",
        "\n",
        "Pergunte para a usuária o valor que será investido em uma aplicação, a taxa de juros ao mês e o tempo que o dinheiro ficará aplicado.\n",
        "\n",
        "Seu programa deverá exibir quanto de juros será pago e o saldo total **em cada mês**.\n",
        "\n",
        "Exemplo: 10000.0 reais, 5% de juros ao mês, 3 meses.\n",
        "\n",
        "```\n",
        "Mês 1: Juros: 500.0 reais, saldo: 10500.0 reais\n",
        "Mês 2: Juros: 525.0 reais, saldo: 11025.0 reais\n",
        "Mês 3: Juros: 551.25 reais, saldo: 11576.25 reais\n",
        "```"
      ]
    },
    {
      "cell_type": "code",
      "execution_count": null,
      "metadata": {
        "colab": {
          "base_uri": "https://localhost:8080/"
        },
        "id": "jkMMTf67141E",
        "outputId": "67331005-7a23-4785-f9ad-ddb5b62c1b63"
      },
      "outputs": [],
      "source": [
        "validacao = False\n",
        "\n",
        "while validacao == False:\n",
        "  valor = float(input(\"Insira o valor da aplicação: \"))\n",
        "  taxa = float(input(\"Insira a taxa de juros ao mês: \"))\n",
        "  meses = int(input(\"Insira o tempo de aplicação em meses: \"))\n",
        "  if valor <= 0:\n",
        "    print(\"Valor inválido. O valor da aplicação deve ser maior que zero. Insira as informações novamente.\")\n",
        "    continue\n",
        "  if taxa <= 0:\n",
        "    print(\"Valor inválido. A taxa de juros deve ser maior que zero. Insira as informações novamente.\")\n",
        "    continue\n",
        "  if meses <= 0:\n",
        "    print(\"Valor inválido. A quantidade de meses deve ser maior que zero. Insira as informações novamente.\")\n",
        "    continue\n",
        "  validacao = True\n",
        "\n",
        "iterador = 1\n",
        "montante = valor\n",
        "\n",
        "while iterador <= meses:\n",
        "  rendimento_juros = (taxa / 100) * montante\n",
        "  montante += rendimento_juros\n",
        "  print(f\"Mês {iterador}: Juros: {rendimento_juros:.2f}, saldo: {montante:.2f}\")\n",
        "  iterador += 1"
      ]
    }
  ],
  "metadata": {
    "colab": {
      "provenance": []
    },
    "kernelspec": {
      "display_name": "Python 3.10.7 64-bit",
      "language": "python",
      "name": "python3"
    },
    "language_info": {
      "name": "python",
      "version": "3.10.7"
    },
    "vscode": {
      "interpreter": {
        "hash": "566a5b80f10dbed5292f0030c56aefc421a5d66123adfd89320e636d33dccc4a"
      }
    }
  },
  "nbformat": 4,
  "nbformat_minor": 0
}
