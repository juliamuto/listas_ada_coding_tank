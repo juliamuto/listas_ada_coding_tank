{
  "cells": [
    {
      "cell_type": "markdown",
      "metadata": {
        "id": "6t7MOGVlwvSG"
      },
      "source": [
        "# Exercícios\n",
        "\n",
        "Faça um programa que pede para a usuária digitar dois números, inicio e fim.\n",
        "\n",
        "O seu programa deverá preencher uma lista com todos os números no intervalo (inclusive os valores inicial e final) e exibi-la na tela."
      ]
    },
    {
      "cell_type": "code",
      "execution_count": 3,
      "metadata": {
        "id": "n-yLFdPywxYq"
      },
      "outputs": [
        {
          "name": "stdout",
          "output_type": "stream",
          "text": [
            "[1, 2, 3, 4, 5, 6, 7, 8, 9, 10]\n"
          ]
        }
      ],
      "source": [
        "inicio = int(input(\"Insira um número inicial: \")) \n",
        "fim = int(input(\"Insira um número final: \")) \n",
        "lista = []\n",
        "\n",
        "for numero in range(inicio, fim): \n",
        "    lista.append(numero)\n",
        "    \n",
        "lista.append(fim)\n",
        "\n",
        "print(lista)"
      ]
    },
    {
      "cell_type": "markdown",
      "metadata": {
        "id": "hCBvAKZNwxn6"
      },
      "source": [
        "Faça um programa que preenche uma lista inicialmente vazia com 20 números aleatórios entre 0 e 100.\n",
        "\n",
        "Você pode utilizar a biblioteca random para isso. Comece importando-a no início de seu código:\n",
        "\n",
        "import random\n",
        "\n",
        "Para sortear um número, você pode usar a linha abaixo:\n",
        "\n",
        "sorteio = random.randint(0, 100)\n",
        "\n",
        "DICA: em todos os programas desta lista de exercícios onde você tiver que trabalhar com uma lista numérica onde os números não serão digitados pela usuária, você pode replicar o código deste exercício para partir de uma lista já preenchida com valores aleatórios. Isso facilitará os seus testes!"
      ]
    },
    {
      "cell_type": "code",
      "execution_count": 4,
      "metadata": {
        "id": "Brf-pusKw1uC"
      },
      "outputs": [
        {
          "name": "stdout",
          "output_type": "stream",
          "text": [
            "[67, 52, 40, 10, 52, 2, 4, 29, 84, 15, 48, 20, 69, 86, 77, 55, 77, 29, 62, 78]\n"
          ]
        }
      ],
      "source": [
        "import random \n",
        "lista_aleatoria = []\n",
        "\n",
        "while len(lista_aleatoria) < 20: \n",
        "    sorteio = random.randint(0, 100) \n",
        "    lista_aleatoria.append(sorteio)\n",
        "\n",
        "print(lista_aleatoria)"
      ]
    },
    {
      "cell_type": "markdown",
      "metadata": {
        "id": "qoBEPmudw13s"
      },
      "source": [
        "Faça um programa que percorre uma lista de números aleatórios (ver exercício 2) e exibe na tela apenas os números pares.\n",
        "\n"
      ]
    },
    {
      "cell_type": "code",
      "execution_count": 5,
      "metadata": {
        "id": "7krfNlYSw3kY"
      },
      "outputs": [
        {
          "name": "stdout",
          "output_type": "stream",
          "text": [
            "[53, 32, 51, 30, 98, 8, 100, 80, 7, 35, 70, 75, 92, 4, 67, 18, 87, 84, 9, 91]\n",
            "[32, 30, 98, 8, 100, 80, 70, 92, 4, 18, 84]\n"
          ]
        }
      ],
      "source": [
        "import random \n",
        "lista_aleatoria = [] \n",
        "lista_par = []\n",
        "\n",
        "while len(lista_aleatoria) < 20: \n",
        "    sorteio = random.randint(0, 100) \n",
        "    lista_aleatoria.append(sorteio)\n",
        "    if sorteio % 2 == 0: \n",
        "        lista_par.append(sorteio)\n",
        "\n",
        "print(lista_aleatoria) \n",
        "print(lista_par)"
      ]
    },
    {
      "cell_type": "markdown",
      "metadata": {
        "id": "WUEtHEU1w3rs"
      },
      "source": [
        "Faça um programa que calcula a média dos números de uma lista numérica.\n",
        "\n"
      ]
    },
    {
      "cell_type": "code",
      "execution_count": 6,
      "metadata": {
        "id": "MXAf69XCw5iK"
      },
      "outputs": [
        {
          "name": "stdout",
          "output_type": "stream",
          "text": [
            "[90, 84, 39, 80, 29, 93, 11, 1, 43, 18, 4, 77, 79, 7, 33, 30, 42, 2, 79, 100]\n",
            "47.05\n"
          ]
        }
      ],
      "source": [
        "import random \n",
        "lista_aleatoria = [] \n",
        "soma = 0\n",
        "\n",
        "while len(lista_aleatoria) < 20: \n",
        "    sorteio = random.randint(0, 100) \n",
        "    lista_aleatoria.append(sorteio) \n",
        "    soma += sorteio\n",
        "\n",
        "print(lista_aleatoria) #não pediu, mas achei estranho sem \n",
        "media = soma / len(lista_aleatoria) \n",
        "print(media)"
      ]
    },
    {
      "cell_type": "markdown",
      "metadata": {
        "id": "jSskWj4uw7yj"
      },
      "source": [
        "Faça um programa que percorre uma lista de números. Os números abaixo da média dos valores deverão ser inseridos em uma lista, e os valores acima da média deverão ser inseridos em outra lista.\n",
        "\n"
      ]
    },
    {
      "cell_type": "code",
      "execution_count": 8,
      "metadata": {
        "id": "sGejndaow7Iy"
      },
      "outputs": [
        {
          "name": "stdout",
          "output_type": "stream",
          "text": [
            "Lista aleatória: [59, 90, 37, 19, 16, 7, 87, 88, 9, 38, 6, 46, 42, 28, 14, 35, 49, 60, 43, 23]\n",
            "A média da lista é 39.80\n",
            "Números da lista abaixo da média: [37, 19, 16, 7, 9, 38, 6, 28, 14, 35, 23]\n",
            "Números da lista acima da média: [59, 90, 87, 88, 46, 42, 49, 60, 43]\n"
          ]
        }
      ],
      "source": [
        "import random \n",
        "lista_aleatoria = [] \n",
        "lista_abaixo = [] \n",
        "lista_acima = [] \n",
        "soma = 0\n",
        "\n",
        "while len(lista_aleatoria) < 20: \n",
        "    sorteio = random.randint(0, 100) \n",
        "    lista_aleatoria.append(sorteio) \n",
        "    soma += sorteio \n",
        "    media = soma / len(lista_aleatoria) \n",
        "for numero in lista_aleatoria: \n",
        "    if numero > media: \n",
        "            lista_acima.append(numero) \n",
        "    else: \n",
        "            lista_abaixo.append(numero)\n",
        "\n",
        "print(f\"Lista aleatória: {lista_aleatoria}\") #não pediu, mas achei estranho sem \n",
        "print(f\"A média da lista é {media:.2f}\") \n",
        "print(f\"Números da lista abaixo da média: {lista_abaixo}\") \n",
        "print(f\"Números da lista acima da média: {lista_acima}\")"
      ]
    },
    {
      "cell_type": "markdown",
      "metadata": {
        "id": "YHptpvDnw9PI"
      },
      "source": [
        "Faça um programa que pergunta o número de atividades avaliativas realizadas pela usuária (no mínimo 4).\n",
        "\n",
        "O programa deverá exibir:\n",
        "\n",
        "* a menor nota\n",
        "* a maior nota\n",
        "* a média calculada desconsiderando a maior e a menor nota"
      ]
    },
    {
      "cell_type": "code",
      "execution_count": 9,
      "metadata": {
        "id": "vMrXvBSqxTvv"
      },
      "outputs": [
        {
          "name": "stdout",
          "output_type": "stream",
          "text": [
            "A lista de notas é [10.0, 9.0, 8.0, 7.0]\n",
            "A maior nota é 10.0.\n",
            "A menor nota é 7.0.\n",
            "A média sem essas notas é 8.5\n"
          ]
        }
      ],
      "source": [
        "qtd_provas = int(input(\"Insira a quantidade de provas: \")) \n",
        "#validação\n",
        "while qtd_provas < 4: \n",
        "    print(\"Por favor insira uma quantidade de provas acima de 4\") \n",
        "    qtd_provas = int(input(\"Insira a quantidade de provas\")) \n",
        "\n",
        "lista_notas = [] \n",
        "soma = 0\n",
        "\n",
        "for contador in range(1, (qtd_provas + 1)): \n",
        "    nota = float(input(f\"Insira a nota da prova {contador}: \")) \n",
        "    lista_notas.append(nota) \n",
        "    soma += nota\n",
        "\n",
        "print(f\"A lista de notas é {lista_notas}\")\n",
        "\n",
        "maior_nota = max(lista_notas) \n",
        "menor_nota = min(lista_notas) \n",
        "lista_notas.remove(maior_nota) \n",
        "lista_notas.remove(menor_nota)\n",
        "\n",
        "media = (soma - maior_nota - menor_nota) / (qtd_provas - 2)\n",
        "\n",
        "print(f\"A maior nota é {maior_nota}.\\nA menor nota é {menor_nota}.\\nA média sem essas notas é {media}\")"
      ]
    },
    {
      "cell_type": "markdown",
      "metadata": {
        "id": "tDSD-fHlxVau"
      },
      "source": [
        "Faça um programa que leia as coordenadas de dois vetores a partir do teclado e armazene-as em listas. Exemplo:\n",
        "\n",
        "```\n",
        "vetor1 = [1, 4, 7]\n",
        "vetor2 = [2, 3, 4]\n",
        "```\n",
        "\n",
        "O seu programa deverá realizar a soma vetorial. No exemplo acima, ela é dada por:\n",
        "\n",
        "`soma = [1+2, 4+3, 7+4] = [3, 7, 11]`\n",
        "\n",
        "Dica: note que os valores a serem somados entre si possuem o mesmo índice em listas diferentes."
      ]
    },
    {
      "cell_type": "code",
      "execution_count": 14,
      "metadata": {
        "id": "vmyEilTwxbFX"
      },
      "outputs": [
        {
          "name": "stdout",
          "output_type": "stream",
          "text": [
            "Vetor 1: [12, 14, 2], vetor 2: [41, 45, 12], soma dos vetores: [53, 59, 14]\n"
          ]
        }
      ],
      "source": [
        "#assim, daria para mudar a quantidade de elementos na lista (não entendo de coordenada) \n",
        "qtd_coordenadas = 3 \n",
        "#poderia pedir o input da quantidade de vetores? \n",
        "qtd_vetores = 2 \n",
        "vetor1 = [] \n",
        "vetor2 = [] \n",
        "lista_soma = []\n",
        "\n",
        "for iterador in range(1, (qtd_vetores + 1)): \n",
        "    #ficou grande \n",
        "    for _ in range(1, (qtd_coordenadas + 1)): \n",
        "        coordenada = int(input(f\"Insira o valor da coordenada {_} do vetor {iterador}: \")) \n",
        "        if iterador == 1: \n",
        "            vetor1.append(coordenada) \n",
        "        else: \n",
        "            vetor2.append(coordenada)\n",
        "\n",
        "for indice in range(qtd_coordenadas): \n",
        "    soma_vetores = vetor1[indice] + vetor2[indice] \n",
        "    lista_soma.append(soma_vetores)\n",
        "\n",
        "print(f\"Vetor 1: {vetor1}, vetor 2: {vetor2}, soma dos vetores: {lista_soma}\")"
      ]
    },
    {
      "cell_type": "markdown",
      "metadata": {
        "id": "8gWPsq8exbQY"
      },
      "source": [
        "Faça um programa que leia as coordenadas de dois vetores a partir do teclado e armazene-as em listas. Exemplo:\n",
        "\n",
        "```\n",
        "vetor1 = [1, 4, 7]\n",
        "vetor2 = [2, 3, 4]\n",
        "```\n",
        "\n",
        "O seu programa deverá realizar o produto escalar. No exemplo acima, ele é dado por:\n",
        "\n",
        "`produto = 1*2 + 4*3 + 7*4 = 42`\n",
        "\n",
        "Atenção: note que o produto escalar, apesar de ser uma operação entre vetores, possui como resultado um único número."
      ]
    },
    {
      "cell_type": "code",
      "execution_count": 16,
      "metadata": {
        "id": "-yWtFTQVxpZl"
      },
      "outputs": [
        {
          "name": "stdout",
          "output_type": "stream",
          "text": [
            "[1, 4, 7] [2, 3, 4] produto escalar:  42\n"
          ]
        }
      ],
      "source": [
        "qtd_coordenadas = 3 \n",
        "qtd_vetores = 2 \n",
        "vetor1 = [] \n",
        "vetor2 = [] \n",
        "lista_produto = [] \n",
        "soma_produtos = 0\n",
        "\n",
        "for iterador in range(1, (qtd_vetores + 1)): \n",
        "    #ficou grande \n",
        "    for _ in range(1, (qtd_coordenadas + 1)): \n",
        "        coordenada = int(input(f\"Insira o valor da coordenada {_} do vetor {iterador}: \")) \n",
        "        if iterador == 1: \n",
        "            vetor1.append(coordenada) \n",
        "        else: \n",
        "            vetor2.append(coordenada)\n",
        "\n",
        "for indice in range(qtd_coordenadas): \n",
        "    produto_vetores = vetor1[indice] * vetor2[indice] \n",
        "    lista_produto.append(produto_vetores) \n",
        "    soma_produtos += produto_vetores\n",
        "\n",
        "print(vetor1, vetor2, \"Produto escalar: \", soma_produtos)"
      ]
    },
    {
      "cell_type": "markdown",
      "metadata": {
        "id": "5FejNfE7xpiY"
      },
      "source": [
        "Crie uma tabela de preços (pode ser fixa no seu código) usando lista de listas.\n",
        "\n",
        "Ela pode ser implementada da seguinte maneira: cada \"lista interna\" é uma lista de 2 elementos: na posição 0 temos o nome do produto, na posição 1 temos o preço.\n",
        "\n",
        "Ex:\n",
        "```\n",
        "produtos = [\n",
        "    ['Chocolate', 5.12],\n",
        "    ['Doritos', 15.25],\n",
        "    ['Fandangos', 7.54],\n",
        "]\n",
        "```\n",
        "\n",
        "Faça um programa que permita consultar valores na lista.\n",
        "\n",
        "Ele deverá perguntar para a usuária o nome do produto que ela deseja consultar. Caso o produto exista na lista, seu preço será exibido. Caso contrário, a mensagem \"produto não encontrado\" será exibida.\n",
        "\n",
        "O programa deverá repetir a pergunta após mostrar o resultado, até que a usuária digite \"sair\"."
      ]
    },
    {
      "cell_type": "code",
      "execution_count": 19,
      "metadata": {
        "id": "UOk-sv6yxtDd"
      },
      "outputs": [
        {
          "name": "stdout",
          "output_type": "stream",
          "text": [
            "Produto não encontrado.\n",
            "Produto não encontrado.\n",
            "Produto não encontrado.\n"
          ]
        }
      ],
      "source": [
        "produtos = [ ['Chocolate', 5.12], ['Doritos', 15.25], ['Fandangos', 7.54], ]\n",
        "\n",
        "sair = False\n",
        "\n",
        "while sair == False:\n",
        "    nome_produto = input(\"Qual produto você deseja consultar? Para sair, escreva SAIR. \") \n",
        "    achou = False \n",
        "    for nome, preco in produtos: \n",
        "        if nome_produto.capitalize() in nome: \n",
        "            print(nome, preco) \n",
        "            achou = True \n",
        "            break \n",
        "        if nome_produto.upper() == \"SAIR\": \n",
        "            sair = True \n",
        "    if (achou == False) and (nome_produto.upper() != \"SAIR\"): \n",
        "            print(\"Produto não encontrado.\")"
      ]
    },
    {
      "cell_type": "markdown",
      "metadata": {
        "id": "0AMHl6QAxtR4"
      },
      "source": [
        "Vamos fazer um programa para representar uma aluna em formato amigável para salvar em uma tabela ou banco de dados.\n",
        "\n",
        "Peça para a usuária digitar:\n",
        "\n",
        "* o nome da aluna\n",
        "* o número de matrícula\n",
        "* a quantidade de provas realizadas\n",
        "* a nota de cada uma das provas\n",
        "* o percentual de presenças\n",
        "\n",
        "A aluna deverá ser representada em uma lista obedecendo a seguinte estrutura:\n",
        "\n",
        "* índice 0: número de matrícula\n",
        "* índice 1: nome\n",
        "* índice 2: uma lista com todas as suas notas\n",
        "* índice 3: sua média\n",
        "* índice 4: seu percentual de presenças\n",
        "* índice 5: um booleano indicando se a aluna foi aprovada ou reprovada\n",
        "\n",
        "Considere como critério de aprovação nota maior ou igual a 6.0 e presença igual ou superior a 70%.\n",
        "\n",
        "Ex:\n",
        "\n",
        "`aluna = [22042022, 'Brenda', [10.0, 9.0, 9.0, 10.0], 9.5, 80, True]`"
      ]
    },
    {
      "cell_type": "code",
      "execution_count": 24,
      "metadata": {
        "id": "QFepQl4AyNlc"
      },
      "outputs": [
        {
          "ename": "ValueError",
          "evalue": "could not convert string to float: ''",
          "output_type": "error",
          "traceback": [
            "\u001b[1;31m---------------------------------------------------------------------------\u001b[0m",
            "\u001b[1;31mValueError\u001b[0m                                Traceback (most recent call last)",
            "Cell \u001b[1;32mIn [24], line 3\u001b[0m\n\u001b[0;32m      1\u001b[0m nome \u001b[39m=\u001b[39m \u001b[39minput\u001b[39m(\u001b[39m\"\u001b[39m\u001b[39mInsira seu nome: \u001b[39m\u001b[39m\"\u001b[39m)\n\u001b[0;32m      2\u001b[0m matricula \u001b[39m=\u001b[39m (\u001b[39minput\u001b[39m(\u001b[39m\"\u001b[39m\u001b[39mInsira seu número de matrícula: \u001b[39m\u001b[39m\"\u001b[39m)) \n\u001b[1;32m----> 3\u001b[0m presenca \u001b[39m=\u001b[39m \u001b[39mfloat\u001b[39;49m(\u001b[39minput\u001b[39;49m(\u001b[39m\"\u001b[39;49m\u001b[39mInsira seu percentual de presenças (ex: 95): \u001b[39;49m\u001b[39m\"\u001b[39;49m)) \n\u001b[0;32m      4\u001b[0m qtd_provas \u001b[39m=\u001b[39m \u001b[39mint\u001b[39m(\u001b[39minput\u001b[39m(\u001b[39m\"\u001b[39m\u001b[39mInsira a quantidade de provas realizada: \u001b[39m\u001b[39m\"\u001b[39m)) \n\u001b[0;32m      5\u001b[0m lista_notas \u001b[39m=\u001b[39m [] \n",
            "\u001b[1;31mValueError\u001b[0m: could not convert string to float: ''"
          ]
        }
      ],
      "source": [
        "nome = input(\"Insira seu nome: \")\n",
        "matricula = (input(\"Insira seu número de matrícula: \")) \n",
        "presenca = float(input(\"Insira seu percentual de presenças (ex: 95): \")) \n",
        "qtd_provas = int(input(\"Insira a quantidade de provas realizada: \")) \n",
        "lista_notas = [] \n",
        "soma = 0 \n",
        "aluna = [] \n",
        "aprovada = True\n",
        "\n",
        "for contador in range(1, (qtd_provas + 1)): \n",
        "    nota = float(input(f\"Insira a nota da prova {contador}: \")) \n",
        "    lista_notas.append(nota) \n",
        "    soma += nota\n",
        "\n",
        "media = soma / qtd_provas\n",
        "\n",
        "if (media < 6) or (presenca < 70): \n",
        "    aprovada = False\n",
        "\n",
        "aluna.append(matricula) \n",
        "aluna.append(nome) \n",
        "aluna.append(lista_notas) \n",
        "aluna.append(media) \n",
        "aluna.append(presenca)\n",
        "aluna.append(aprovada)\n",
        "\n",
        "print(aluna)"
      ]
    },
    {
      "cell_type": "markdown",
      "metadata": {
        "id": "sNhKz6sNyNv8"
      },
      "source": [
        "Nesta questão, reaproveite o código da questão avaliada da lista de exercícios anterior!\n",
        "\n",
        "Modifique seu código para, ao invés de exibir a tabela Price na tela, armazenar a tabela utilizando uma lista de listas.\n",
        "\n",
        "Cada \"lista interna\" deve conter juros daquele mês, amortização daquele mês, valor da prestação e saldo devedor.\n",
        "\n",
        "Todas essas listas deverão ser adicionadas, na ordem correta, em uma lista geral, que será nossa tabela.\n",
        "\n",
        "Uma vez criada e calculada toda a tabela, pergunte (em loop) para a usuária qual mês ela deseja consultar e mostre para ela quanto de juros serão pagos, quanto será amortizado e qual será o seu saldo devedor naquele mês. Caso ela digite um mês inválido, informe para ela que aquele mês não existe. Caso ela digite um mês negativo, encerre o programa."
      ]
    },
    {
      "cell_type": "code",
      "execution_count": 27,
      "metadata": {
        "id": "ua_viT8lyl3c"
      },
      "outputs": [
        {
          "name": "stdout",
          "output_type": "stream",
          "text": [
            "[[1000.0, 467.6331510028722, 9532.366848997128], [953.2366848997128, 514.3964661031594, 9017.97038289397], [901.7970382893969, 565.8361127134752, 8452.134270180493], [845.2134270180494, 622.4197239848228, 7829.714546195671], [782.9714546195671, 684.6616963833051, 7145.052849812366], [714.5052849812366, 753.1278660216356, 6391.92498379073], [639.1924983790731, 828.4406526237991, 5563.484331166931], [556.3484331166932, 911.284717886179, 4652.199613280752], [465.2199613280752, 1002.413189674797, 3649.786423605955], [364.97864236059553, 1102.6545086422766, 2547.1319149636784], [254.71319149636784, 1212.9199595065043, 1334.211955457174], [133.4211955457174, 1334.2119554571548, 1.9326762412674725e-11]]\n",
            "[953.2366848997128, 514.3964661031594, 9017.97038289397]\n",
            "[953.2366848997128, 514.3964661031594, 9017.97038289397]\n",
            "[1000.0, 467.6331510028722, 9532.366848997128]\n"
          ]
        }
      ],
      "source": [
        "emprestimo = float(input(\"Insira o valor do empréstimo que quer realizar: \")) \n",
        "juros = float(input(\"Insira a taxa de juros mensal: \")) / 100 \n",
        "tempo = int(input(\"Insira o tempo para pagamento em meses: \")) \n",
        "parcela_fixa = emprestimo * ((((1 + juros)**tempo) * juros) / (((1 + juros)**tempo) - 1)) \n",
        "deve = emprestimo \n",
        "juros_mes = 0 \n",
        "amortizacao = 0 \n",
        "tabela = []\n",
        "\n",
        "for mes in range(tempo): \n",
        "    juros_mes = deve * juros \n",
        "    amortizacao = parcela_fixa - juros_mes \n",
        "    deve -= amortizacao \n",
        "    lista_interna = [juros_mes, amortizacao, deve]\n",
        "    tabela.append(lista_interna)\n",
        "\n",
        "sair = False\n",
        "\n",
        "while sair == False: \n",
        "    pedido_mes = int(input(\"Insira o mês que deseja consultar. Caso deseje sair, digite um número inteiro menor que 1: \")) \n",
        "    if (pedido_mes) <= 0: \n",
        "        sair = True \n",
        "    else: \n",
        "        print(tabela[(pedido_mes - 1)])"
      ]
    }
  ],
  "metadata": {
    "colab": {
      "provenance": []
    },
    "kernelspec": {
      "display_name": "Python 3.10.7 64-bit",
      "language": "python",
      "name": "python3"
    },
    "language_info": {
      "codemirror_mode": {
        "name": "ipython",
        "version": 3
      },
      "file_extension": ".py",
      "mimetype": "text/x-python",
      "name": "python",
      "nbconvert_exporter": "python",
      "pygments_lexer": "ipython3",
      "version": "3.10.7"
    },
    "vscode": {
      "interpreter": {
        "hash": "566a5b80f10dbed5292f0030c56aefc421a5d66123adfd89320e636d33dccc4a"
      }
    }
  },
  "nbformat": 4,
  "nbformat_minor": 0
}
